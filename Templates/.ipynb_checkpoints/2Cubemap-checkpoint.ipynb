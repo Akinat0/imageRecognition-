{
 "cells": [
  {
   "cell_type": "code",
   "execution_count": 1,
   "metadata": {},
   "outputs": [],
   "source": [
    "import sys\n",
    "from PIL import Image\n",
    "from math import pi,sin,cos,tan,atan2,hypot,floor\n",
    "from numpy import clip\n",
    "from matplotlib import pyplot as plt\n",
    "\n",
    "imgIn = Image.open(\"/Users/amir/Desktop/ImageRecognition/Images/360pans/SAM_217_0376.jpg\")"
   ]
  },
  {
   "cell_type": "markdown",
   "metadata": {},
   "source": [
    "# Functions defenition\n"
   ]
  },
  {
   "cell_type": "code",
   "execution_count": 77,
   "metadata": {},
   "outputs": [],
   "source": [
    "\n",
    "\n",
    "# get x,y,z coords from out image pixels coords\n",
    "# i,j are pixel coords\n",
    "# face is face number\n",
    "# edge is edge length\n",
    "def outImgToXYZ(i,j,face,edge):\n",
    "    a = 2.0*float(i)/edge\n",
    "    b = 2.0*float(j)/edge\n",
    "    if face==0: # back\n",
    "        (x,y,z) = (-1.0, 1.0-a, 3.0 - b)\n",
    "    elif face==1: # left\n",
    "        (x,y,z) = (a-3.0, -1.0, 3.0 - b)\n",
    "    elif face==2: # front\n",
    "        (x,y,z) = (1.0, a - 5.0, 3.0 - b)\n",
    "    elif face==3: # right\n",
    "        (x,y,z) = (7.0-a, 1.0, 3.0 - b)\n",
    "    elif face==4: # top\n",
    "        (x,y,z) = (b-1.0, a -5.0, 1.0)\n",
    "    elif face==5: # bottom\n",
    "        (x,y,z) = (5.0-b, a-5.0, -1.0)\n",
    "    return (x,y,z)\n",
    "\n",
    "# convert using an inverse transformation\n",
    "def convertBack(imgIn,imgOut):\n",
    "    inSize = imgIn.size\n",
    "    outSize = imgOut.size\n",
    "    inPix = imgIn.load()\n",
    "    outPix = imgOut.load()\n",
    "    edge = inSize[0]/4   # the length of each edge in pixels\n",
    "    for i in range(outSize[0]):\n",
    "        face = int(i/edge) # 0 - back, 1 - left 2 - front, 3 - right\n",
    "        if face==2:\n",
    "            rng = range(0,int(edge*3))\n",
    "        else:\n",
    "            rng = range(int(edge), int(edge) * 2)\n",
    "\n",
    "        for j in rng:\n",
    "            if j<edge:\n",
    "                face2 = 4 # top\n",
    "            elif j>=2*edge:\n",
    "                face2 = 5 # bottom\n",
    "            else:\n",
    "                face2 = face\n",
    "\n",
    "            (x,y,z) = outImgToXYZ(i,j,face2,edge)\n",
    "            theta = atan2(y,x) # range -pi to pi\n",
    "            r = hypot(x,y)\n",
    "            phi = atan2(z,r) # range -pi/2 to pi/2\n",
    "            # source img coords\n",
    "            uf = ( 2.0*edge*(theta + pi)/pi )\n",
    "            vf = ( 2.0*edge * (pi/2 - phi)/pi)\n",
    "            # Use bilinear interpolation between the four surrounding pixels\n",
    "            ui = floor(uf)  # coord of pixel to bottom left\n",
    "            vi = floor(vf)\n",
    "            u2 = ui+1       # coords of pixel to top right\n",
    "            v2 = vi+1\n",
    "            mu = uf-ui      # fraction of way across pixel\n",
    "            nu = vf-vi\n",
    "            # Pixel values of four corners\n",
    "            # import sys\n",
    "            # print('inPix ->', inPix)\n",
    "            # print('ui ->', ui)\n",
    "            # print('inSize[0]', inSize[0])\n",
    "            # bar = clip(vi,0,inSize[1]-1)\n",
    "            # print('bar ->', bar, type(bar), int(bar))\n",
    "            # baz = ui % inSize[0]\n",
    "            # print('baz ->', baz, type(baz))\n",
    "            # foo = inPix[ui % inSize[0], bar]\n",
    "            # sys.exit(-1)\n",
    "            A = inPix[ui % inSize[0],int(clip(vi,0,inSize[1]-1))]\n",
    "            B = inPix[u2 % inSize[0],int(clip(vi,0,inSize[1]-1))]\n",
    "            C = inPix[ui % inSize[0],int(clip(v2,0,inSize[1]-1))]\n",
    "            D = inPix[u2 % inSize[0],int(clip(v2,0,inSize[1]-1))]\n",
    "            # interpolate\n",
    "            (r,g,b) = (\n",
    "              A[0]*(1-mu)*(1-nu) + B[0]*(mu)*(1-nu) + C[0]*(1-mu)*nu+D[0]*mu*nu,\n",
    "              A[1]*(1-mu)*(1-nu) + B[1]*(mu)*(1-nu) + C[1]*(1-mu)*nu+D[1]*mu*nu,\n",
    "              A[2]*(1-mu)*(1-nu) + B[2]*(mu)*(1-nu) + C[2]*(1-mu)*nu+D[2]*mu*nu )\n",
    "\n",
    "            outPix[i,j] = (int(round(r)),int(round(g)),int(round(b)))\n",
    "\n"
   ]
  },
  {
   "cell_type": "code",
   "execution_count": null,
   "metadata": {},
   "outputs": [],
   "source": [
    "plt.imshow(imgIn, '  a'),plt.show()"
   ]
  },
  {
   "cell_type": "markdown",
   "metadata": {},
   "source": [
    "# Running"
   ]
  },
  {
   "cell_type": "code",
   "execution_count": null,
   "metadata": {},
   "outputs": [],
   "source": [
    "inSize = imgIn.size\n",
    "i1 = inSize[0]\n",
    "imgOut = Image.new(\"RGB\",(inSize[0],int(inSize[0]*3/4)),\"black\")\n",
    "convertBack(imgIn,imgOut)\n"
   ]
  },
  {
   "cell_type": "markdown",
   "metadata": {},
   "source": [
    "# Save cubemap"
   ]
  },
  {
   "cell_type": "code",
   "execution_count": null,
   "metadata": {},
   "outputs": [],
   "source": [
    "imgOut.save(\"/Users/amir/Desktop/ImageRecognition/Images/360pans/\")"
   ]
  },
  {
   "cell_type": "markdown",
   "metadata": {},
   "source": [
    "# Show result"
   ]
  },
  {
   "cell_type": "code",
   "execution_count": null,
   "metadata": {},
   "outputs": [],
   "source": [
    "plt.figure(figsize=(100, 100))\n",
    "plt.imshow(imgIn, 'gray'),plt.show()\n",
    "imgOut.show()"
   ]
  },
  {
   "cell_type": "code",
   "execution_count": null,
   "metadata": {},
   "outputs": [],
   "source": []
  }
 ],
 "metadata": {
  "kernelspec": {
   "display_name": "Python 3",
   "language": "python",
   "name": "python3"
  },
  "language_info": {
   "codemirror_mode": {
    "name": "ipython",
    "version": 3
   },
   "file_extension": ".py",
   "mimetype": "text/x-python",
   "name": "python",
   "nbconvert_exporter": "python",
   "pygments_lexer": "ipython3",
   "version": "3.7.1"
  }
 },
 "nbformat": 4,
 "nbformat_minor": 2
}
